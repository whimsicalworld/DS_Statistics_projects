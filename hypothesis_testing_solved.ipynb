{
 "cells": [
  {
   "cell_type": "code",
   "execution_count": 1,
   "id": "fc5970f0-06c0-4eab-9699-91e6156fc094",
   "metadata": {},
   "outputs": [
    {
     "name": "stdout",
     "output_type": "stream",
     "text": [
      "Test Statistic (t): -38.0\n",
      "Critical Value (Z): 1.6448536269514722\n",
      "Decision: Fail to reject H0\n",
      "Conclusion: There is no sufficient evidence to support the restaurant owners' claim that the weekly operating costs are higher than the model suggests.\n"
     ]
    }
   ],
   "source": [
    "import numpy as np\n",
    "from scipy.stats import norm\n",
    "\n",
    "# Given data\n",
    "sample_mean = 3050  # sample mean weekly cost (Rs.)\n",
    "theoretical_mean = 1000 + 5 * 600  # theoretical mean weekly cost (Rs.)\n",
    "standard_deviation = 5 * 25  # standard deviation of the population\n",
    "sample_size = 25  # sample size\n",
    "alpha = 0.05  # significance level\n",
    "\n",
    "# Step 1: State the Hypotheses statement\n",
    "# Null Hypothesis (H0): The observed weekly operating costs are not significantly higher than the theoretical model.\n",
    "# Alternative Hypothesis (H1): The observed weekly operating costs are significantly higher than the theoretical model.\n",
    "\n",
    "# Step 2: Calculate the Test Statistic\n",
    "# Using the formula: t = (sample_mean - theoretical_mean) / (standard_deviation / sqrt(sample_size))\n",
    "test_statistic = (sample_mean - theoretical_mean) / (standard_deviation / np.sqrt(sample_size))\n",
    "\n",
    "# Step 3: Determine the Critical Value\n",
    "# Since the sample size is large (n > 30) and we know the population standard deviation, we can use the Z-distribution.\n",
    "# Critical value for one-tailed test at alpha = 0.05\n",
    "critical_value = norm.ppf(1 - alpha)\n",
    "\n",
    "# Step 4: Make a Decision\n",
    "# If the test statistic is greater than the critical value, we reject the null hypothesis.\n",
    "# If the test statistic is less than or equal to the critical value, we fail to reject the null hypothesis.\n",
    "if test_statistic > critical_value:\n",
    "    decision = \"Reject H0\"\n",
    "else:\n",
    "    decision = \"Fail to reject H0\"\n",
    "\n",
    "# Step 5: Conclusion\n",
    "# Based on the decision in step 4, conclude whether there is strong evidence to support the restaurant owners' claim.\n",
    "if test_statistic > critical_value:\n",
    "    conclusion = \"There is strong evidence to support the restaurant owners' claim that the weekly operating costs are higher than the model suggests.\"\n",
    "else:\n",
    "    conclusion = \"There is no sufficient evidence to support the restaurant owners' claim that the weekly operating costs are higher than the model suggests.\"\n",
    "\n",
    "# Print results\n",
    "print(\"Test Statistic (t):\", test_statistic)\n",
    "print(\"Critical Value (Z):\", critical_value)\n",
    "print(\"Decision:\", decision)\n",
    "print(\"Conclusion:\", conclusion)"
   ]
  }
 ],
 "metadata": {
  "kernelspec": {
   "display_name": "Python 3 (ipykernel)",
   "language": "python",
   "name": "python3"
  },
  "language_info": {
   "codemirror_mode": {
    "name": "ipython",
    "version": 3
   },
   "file_extension": ".py",
   "mimetype": "text/x-python",
   "name": "python",
   "nbconvert_exporter": "python",
   "pygments_lexer": "ipython3",
   "version": "3.11.7"
  }
 },
 "nbformat": 4,
 "nbformat_minor": 5
}
