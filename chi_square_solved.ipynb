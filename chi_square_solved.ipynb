{
 "cells": [
  {
   "cell_type": "code",
   "execution_count": 2,
   "id": "ab76e31d-a127-4ef3-ad5a-7b9788d9cc2b",
   "metadata": {},
   "outputs": [
    {
     "name": "stdout",
     "output_type": "stream",
     "text": [
      "       Satisfaction  Smart Thermostat  Smart Light  Total\n",
      "0    Very Satisfied                50           70    120\n",
      "1         Satisfied                80          100    180\n",
      "2           Neutral                60           90    150\n",
      "3       Unsatisfied                30           50     80\n",
      "4  Very Unsatisfied                20           50     70\n",
      "5             Total               240          360    600\n",
      "Smart Light       50  70  90  100  360  Total\n",
      "Smart Thermostat                             \n",
      "20                 1   0   0    0    0      1\n",
      "30                 1   0   0    0    0      1\n",
      "50                 0   1   0    0    0      1\n",
      "60                 0   0   1    0    0      1\n",
      "80                 0   0   0    1    0      1\n",
      "240                0   0   0    0    1      1\n",
      "Total              2   1   1    1    1      6\n",
      "\n",
      "Chi-Square Statistic: 5.638227513227513\n",
      "p-value: 0.22784371130697179\n",
      "Degrees of Freedom: 4\n",
      "Critical Value at alpha=0.05: 0.7107230213973239\n",
      "\n",
      "Decision: Reject the Null Hypothesis.\n",
      "There is a statistically significant association between the type of smart home device purchased and customer satisfaction level.\n"
     ]
    }
   ],
   "source": [
    "import pandas as pd\n",
    "from scipy.stats import chi2_contingency\n",
    "from scipy.stats import chi2\n",
    "\n",
    "# Customer satisfaction data\n",
    "data = {\n",
    "    'Satisfaction': ['Very Satisfied', 'Satisfied', 'Neutral', 'Unsatisfied', 'Very Unsatisfied','Total'],\n",
    "    'Smart Thermostat': [50, 80, 60, 30, 20,240],\n",
    "    'Smart Light': [70, 100, 90, 50, 50,360],\n",
    "    'Total':[120,180,150,80,70,600]\n",
    "}\n",
    "\n",
    "\n",
    "# Create a pandas dataframe\n",
    "df = pd.DataFrame(data)\n",
    "print(df)\n",
    "# Contingency table\n",
    "contingency_table = pd.crosstab(df['Smart Thermostat'], df['Smart Light'], margins=True, margins_name=\"Total\")\n",
    "# Print the contingency table\n",
    "#print(\"Contingency Table:\")\n",
    "print(contingency_table)\n",
    "\n",
    "# Hypothesis Testing\n",
    "# H0 (Null Hypothesis): There is no significant association between the type of smart home device purchased and customer satisfaction level.\n",
    "# Ha (Alternative Hypothesis): There is a significant association between the type of device and satisfaction level.\n",
    "d = [[50,70], [80,100],[60,90],[30,50],[20,50]]\n",
    "# Chi-Square test statistic\n",
    "chi2_statistic, p_value, degrees_of_freedom, expected_counts = chi2_contingency(d)\n",
    "\n",
    "\n",
    "# Critical Value\n",
    "alpha = 0.05  #Significance level\n",
    "critical_value = chi2.ppf(alpha, df=degrees_of_freedom)\n",
    "\n",
    "# Print results\n",
    "print(\"\\nChi-Square Statistic:\", chi2_statistic)\n",
    "print(\"p-value:\", p_value)\n",
    "print(\"Degrees of Freedom:\", degrees_of_freedom)\n",
    "print(\"Critical Value at alpha=0.05:\", critical_value)\n",
    "\n",
    "# Decision\n",
    "if chi2_statistic > critical_value:\n",
    "    print(\"\\nDecision: Reject the Null Hypothesis.\")\n",
    "    print(\"There is a statistically significant association between the type of smart home device purchased and customer satisfaction level.\")\n",
    "else:\n",
    "    print(\"\\nDecision: Fail to Reject the Null Hypothesis.\")\n",
    "    print(\"There is not enough evidence to conclude a significant association between device type and satisfaction level.\")"
   ]
  }
 ],
 "metadata": {
  "kernelspec": {
   "display_name": "Python 3 (ipykernel)",
   "language": "python",
   "name": "python3"
  },
  "language_info": {
   "codemirror_mode": {
    "name": "ipython",
    "version": 3
   },
   "file_extension": ".py",
   "mimetype": "text/x-python",
   "name": "python",
   "nbconvert_exporter": "python",
   "pygments_lexer": "ipython3",
   "version": "3.11.7"
  }
 },
 "nbformat": 4,
 "nbformat_minor": 5
}
