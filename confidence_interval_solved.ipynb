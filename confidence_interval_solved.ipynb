{
 "cells": [
  {
   "cell_type": "code",
   "execution_count": 3,
   "id": "c14bc551-ce56-4877-b732-c1a9a267447d",
   "metadata": {},
   "outputs": [
    {
     "name": "stdout",
     "output_type": "stream",
     "text": [
      "99% Confidence Interval using Sample Standard Deviation: (1.090197338451367, 1.3871359948819662)\n",
      "99% Confidence Interval using Known Population Standard Deviation: (1.105642598668929, 1.371690734664404)\n"
     ]
    }
   ],
   "source": [
    "import numpy as np\n",
    "from scipy.stats import t\n",
    "\n",
    "# Given data\n",
    "x = [1.13, 1.55, 1.43, 0.92, 1.25, 1.36, 1.32, 0.85, 1.07, 1.48, 1.20, 1.33, 1.18, 1.22, 1.29]\n",
    "\n",
    "# Calculate sample mean\n",
    "sample_mean = np.mean(x)\n",
    "\n",
    "# Calculate sample standard deviation\n",
    "sample_std = np.std(x, ddof=1)\n",
    "\n",
    "# Calculate t-score\n",
    "df = len(x) - 1\n",
    "alpha = 0.01  # 1 - Confidence level\n",
    "t_score = t.ppf(1 - alpha/2, df)\n",
    "\n",
    "# Calculate margin of error\n",
    "margin_of_error = t_score * (sample_std / np.sqrt(len(x)))\n",
    "\n",
    "# Construct confidence interval\n",
    "confidence_interval = (sample_mean - margin_of_error, sample_mean + margin_of_error)\n",
    "\n",
    "print(\"99% Confidence Interval using Sample Standard Deviation:\", confidence_interval)\n",
    "# Given data\n",
    "population_std = 0.2  # in million characters\n",
    "\n",
    "# Calculate margin of error\n",
    "z_score = 2.576  # For 99% confidence interval using z-distribution\n",
    "margin_of_error_known_std = z_score * (population_std / np.sqrt(len(x)))\n",
    "\n",
    "# Construct confidence interval\n",
    "confidence_interval_known_std = (sample_mean - margin_of_error_known_std, sample_mean + margin_of_error_known_std)\n",
    "\n",
    "print(\"99% Confidence Interval using Known Population Standard Deviation:\", confidence_interval_known_std)\n"
   ]
  }
 ],
 "metadata": {
  "kernelspec": {
   "display_name": "Python 3 (ipykernel)",
   "language": "python",
   "name": "python3"
  },
  "language_info": {
   "codemirror_mode": {
    "name": "ipython",
    "version": 3
   },
   "file_extension": ".py",
   "mimetype": "text/x-python",
   "name": "python",
   "nbconvert_exporter": "python",
   "pygments_lexer": "ipython3",
   "version": "3.11.7"
  }
 },
 "nbformat": 4,
 "nbformat_minor": 5
}
